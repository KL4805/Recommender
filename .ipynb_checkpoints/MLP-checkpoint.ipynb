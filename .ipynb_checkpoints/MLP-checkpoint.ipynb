{
 "cells": [
  {
   "cell_type": "code",
   "execution_count": 2,
   "metadata": {
    "scrolled": true
   },
   "outputs": [],
   "source": [
    "import tensorflow as tf\n",
    "import numpy as np\n",
    "import heapq\n",
    "import time\n",
    "from math import *"
   ]
  },
  {
   "cell_type": "code",
   "execution_count": 3,
   "metadata": {},
   "outputs": [],
   "source": [
    "train_data = []\n",
    "with open('train_data.txt','r') as infile:\n",
    "    for l in infile:\n",
    "        l.rstrip('\\n')\n",
    "        lint = [int(x) for x in l.split(',')]\n",
    "        train_data.append(lint)"
   ]
  },
  {
   "cell_type": "code",
   "execution_count": 4,
   "metadata": {},
   "outputs": [],
   "source": [
    "item_of_user = [[] for i in range(6040)]\n",
    "for l in train_data:\n",
    "    u = l[0]\n",
    "    item = l[1]\n",
    "    item_of_user[u].append(item)"
   ]
  },
  {
   "cell_type": "code",
   "execution_count": 5,
   "metadata": {},
   "outputs": [],
   "source": [
    "test_data = []\n",
    "with open('test_data.txt','r') as infile:\n",
    "    for l in infile:\n",
    "        l.rstrip('\\n')\n",
    "        lint = [int(x) for x in l.split(',')]\n",
    "        test_data.append(lint)"
   ]
  },
  {
   "cell_type": "code",
   "execution_count": 6,
   "metadata": {},
   "outputs": [],
   "source": [
    "negative_pair = [[] for i in range(6040)]\n",
    "with open('negative_pairs.txt','r') as infile:\n",
    "    for l in infile:\n",
    "        l.rstrip('\\n')\n",
    "        u,i = (int(x) for x in l.split(','))\n",
    "        negative_pair[u].append(i)"
   ]
  },
  {
   "cell_type": "code",
   "execution_count": 7,
   "metadata": {},
   "outputs": [],
   "source": [
    "num_user = 6040\n",
    "num_item = 3952"
   ]
  },
  {
   "cell_type": "code",
   "execution_count": 8,
   "metadata": {},
   "outputs": [],
   "source": [
    "#For this task, we are performing a regression-like task, therefore the batch contains users, items and labels. \n",
    "def get_data(negative_num):\n",
    "    batch_user, batch_item, batch_label = [], [], []\n",
    "    for u in range(num_user):\n",
    "        for it in item_of_user[u]:\n",
    "            batch_user.append(u)\n",
    "            batch_item.append(it)\n",
    "            batch_label.append(1)\n",
    "            sampled_negative = 0\n",
    "            while sampled_negative <negative_num:\n",
    "                j = np.random.randint(num_item)\n",
    "                if j in item_of_user[u]:\n",
    "                    continue\n",
    "                else:\n",
    "                    batch_user.append(u)\n",
    "                    batch_item.append(j)\n",
    "                    batch_label.append(0)\n",
    "                    sampled_negative += 1\n",
    "    \n",
    "    return np.array(batch_user), np.array(batch_item), np.array(batch_label)        "
   ]
  },
  {
   "cell_type": "code",
   "execution_count": 9,
   "metadata": {},
   "outputs": [],
   "source": [
    "#The first layer is an embedding layer, from then on are fully connected layers. \n",
    "latent_size = 32\n",
    "batch_size = 256\n",
    "learning_rate = 0.01\n",
    "regularization_rate = 1e-20\n",
    "max_epochs = 20\n",
    "negative_ratio = 4\n",
    "layer_size = [64, 32, 16, 8]\n",
    "#latent_size*2 = layer_size[0]\n",
    "#the layer_size does not include the last output layer"
   ]
  },
  {
   "cell_type": "code",
   "execution_count": 10,
   "metadata": {},
   "outputs": [],
   "source": [
    "tf.reset_default_graph()\n",
    "embedding_u = tf.get_variable(name = 'MLP_latent_u', shape = [num_user, latent_size], initializer = tf.random_normal_initializer(stddev = 0.01))\n",
    "embedding_i = tf.get_variable(name = 'MLP_latent_i', shape = [num_item, latent_size], initializer = tf.random_normal_initializer(stddev = 0.01))\n",
    "#w1 = tf.get_variable(name = 'fc-w1', shape = [layer_size[0], layer_size[1]], initializer = tf.random_normal_initializer(stddev = 0.01))\n",
    "#b1 = tf.get_variable(name = 'fc-b1', shape = [layer_size[1]], initializer = tf.constant_initializer(0.001))\n",
    "#w2 = tf.get_variable(name = 'fc-w2', shape = [layer_size[1], layer_size[2]], initializer = tf.random_normal_initializer(stddev = 0.01))\n",
    "\n",
    "hidden_weights = []\n",
    "hidden_biases = []\n",
    "for i in range(len(layer_size) - 1):\n",
    "    hidden_weights.append(tf.get_variable(name = \"MLP_hidden_w\"+str(i), shape = [layer_size[i], layer_size[i+1]], initializer = tf.random_normal_initializer))\n",
    "    hidden_biases.append(tf.get_variable(name = 'MLP_hidden_b'+str(i), shape = [layer_size[i+1]], initializer = tf.constant_initializer(0.01)))\n",
    "output_weight = tf.get_variable(name = 'MLP_output_w', shape = [layer_size[-1], 1], initializer = tf.random_normal_initializer(stddev = 0.01))"
   ]
  },
  {
   "cell_type": "code",
   "execution_count": 11,
   "metadata": {},
   "outputs": [],
   "source": [
    "U = tf.placeholder(tf.int32, [None])\n",
    "I = tf.placeholder(tf.int32, [None])\n",
    "label = tf.placeholder(tf.int32, [None])\n",
    "\n",
    "regularizer = tf.contrib.layers.l2_regularizer(regularization_rate)\n",
    "\n",
    "embedding_u = tf.nn.embedding_lookup(embedding_u, U)\n",
    "embedding_i = tf.nn.embedding_lookup(embedding_i, I)\n",
    "concat_ui = tf.concat([embedding_u, embedding_i], axis = 1)\n",
    "\n",
    "#hidden_out = tf.nn.relu(tf.matmul(concat_ui, w1) + b1)\n",
    "hidden_in = concat_ui\n",
    "for i in range(len(layer_size) - 1):\n",
    "    hidden_out = tf.nn.relu(tf.matmul(hidden_in, hidden_weights[i]) + hidden_biases[i])\n",
    "    hidden_in = hidden_out\n",
    "    tf.add_to_collection(\"losses\", regularizer(hidden_weights[i]))\n",
    "\n",
    "score = tf.reshape(tf.matmul(hidden_out, output_weight), [-1])\n",
    "prediction = tf.nn.sigmoid(score)\n",
    "reg_term = regularizer(embedding_u) + regularizer(embedding_i) + tf.add_n(tf.get_collection(\"losses\"))\n",
    "loss = reg_term + tf.losses.log_loss(predictions = prediction, labels = label)\n",
    "optimizer = tf.train.AdamOptimizer(learning_rate).minimize(loss)"
   ]
  },
  {
   "cell_type": "code",
   "execution_count": 12,
   "metadata": {},
   "outputs": [
    {
     "name": "stdout",
     "output_type": "stream",
     "text": [
      "[48.9 s] After 0 epochs, loss on batch is 0.264.\n",
      "[53.0 s] After 0 epochs, hit@10 = 0.540, NDCG@10 = 0.301.\n",
      "[50.4 s] After 1 epochs, loss on batch is 0.237.\n",
      "[54.4 s] After 1 epochs, hit@10 = 0.602, NDCG@10 = 0.344.\n",
      "[50.6 s] After 2 epochs, loss on batch is 0.272.\n",
      "[54.6 s] After 2 epochs, hit@10 = 0.622, NDCG@10 = 0.356.\n",
      "[47.9 s] After 3 epochs, loss on batch is 0.239.\n",
      "[51.9 s] After 3 epochs, hit@10 = 0.625, NDCG@10 = 0.362.\n",
      "[48.4 s] After 4 epochs, loss on batch is 0.286.\n",
      "[52.4 s] After 4 epochs, hit@10 = 0.645, NDCG@10 = 0.371.\n",
      "[47.7 s] After 5 epochs, loss on batch is 0.299.\n",
      "[51.8 s] After 5 epochs, hit@10 = 0.639, NDCG@10 = 0.373.\n",
      "[48.5 s] After 6 epochs, loss on batch is 0.244.\n",
      "[52.6 s] After 6 epochs, hit@10 = 0.647, NDCG@10 = 0.377.\n",
      "[52.8 s] After 7 epochs, loss on batch is 0.289.\n",
      "[56.9 s] After 7 epochs, hit@10 = 0.650, NDCG@10 = 0.383.\n",
      "[51.3 s] After 8 epochs, loss on batch is 0.232.\n",
      "[55.3 s] After 8 epochs, hit@10 = 0.660, NDCG@10 = 0.387.\n",
      "[49.3 s] After 9 epochs, loss on batch is 0.263.\n",
      "[53.3 s] After 9 epochs, hit@10 = 0.659, NDCG@10 = 0.389.\n",
      "[48.3 s] After 10 epochs, loss on batch is 0.250.\n",
      "[52.4 s] After 10 epochs, hit@10 = 0.666, NDCG@10 = 0.395.\n",
      "[48.6 s] After 11 epochs, loss on batch is 0.213.\n",
      "[52.6 s] After 11 epochs, hit@10 = 0.666, NDCG@10 = 0.393.\n",
      "[47.8 s] After 12 epochs, loss on batch is 0.238.\n",
      "[51.8 s] After 12 epochs, hit@10 = 0.670, NDCG@10 = 0.396.\n",
      "[48.7 s] After 13 epochs, loss on batch is 0.299.\n",
      "[52.7 s] After 13 epochs, hit@10 = 0.669, NDCG@10 = 0.399.\n",
      "[48.5 s] After 14 epochs, loss on batch is 0.209.\n",
      "[52.5 s] After 14 epochs, hit@10 = 0.670, NDCG@10 = 0.400.\n",
      "[50.0 s] After 15 epochs, loss on batch is 0.239.\n",
      "[54.0 s] After 15 epochs, hit@10 = 0.672, NDCG@10 = 0.406.\n",
      "[49.4 s] After 16 epochs, loss on batch is 0.257.\n",
      "[53.4 s] After 16 epochs, hit@10 = 0.668, NDCG@10 = 0.401.\n",
      "[48.7 s] After 17 epochs, loss on batch is 0.207.\n",
      "[52.7 s] After 17 epochs, hit@10 = 0.673, NDCG@10 = 0.405.\n"
     ]
    },
    {
     "ename": "KeyboardInterrupt",
     "evalue": "",
     "output_type": "error",
     "traceback": [
      "\u001b[0;31m---------------------------------------------------------------------------\u001b[0m",
      "\u001b[0;31mKeyboardInterrupt\u001b[0m                         Traceback (most recent call last)",
      "\u001b[0;32m<ipython-input-12-4a01f4f2ebbc>\u001b[0m in \u001b[0;36m<module>\u001b[0;34m()\u001b[0m\n\u001b[1;32m     14\u001b[0m             \u001b[0;31m#print(bi)\u001b[0m\u001b[0;34m\u001b[0m\u001b[0;34m\u001b[0m\u001b[0m\n\u001b[1;32m     15\u001b[0m             \u001b[0;31m#print(bl)\u001b[0m\u001b[0;34m\u001b[0m\u001b[0;34m\u001b[0m\u001b[0m\n\u001b[0;32m---> 16\u001b[0;31m             \u001b[0mloss_value\u001b[0m \u001b[0;34m,\u001b[0m\u001b[0m_\u001b[0m \u001b[0;34m=\u001b[0m \u001b[0msess\u001b[0m\u001b[0;34m.\u001b[0m\u001b[0mrun\u001b[0m\u001b[0;34m(\u001b[0m\u001b[0;34m[\u001b[0m\u001b[0mloss\u001b[0m\u001b[0;34m,\u001b[0m \u001b[0moptimizer\u001b[0m\u001b[0;34m]\u001b[0m\u001b[0;34m,\u001b[0m \u001b[0mfeed_dict\u001b[0m \u001b[0;34m=\u001b[0m \u001b[0;34m{\u001b[0m\u001b[0mU\u001b[0m\u001b[0;34m:\u001b[0m\u001b[0mbu\u001b[0m\u001b[0;34m,\u001b[0m \u001b[0mI\u001b[0m\u001b[0;34m:\u001b[0m\u001b[0mbi\u001b[0m\u001b[0;34m,\u001b[0m \u001b[0mlabel\u001b[0m\u001b[0;34m:\u001b[0m\u001b[0mbl\u001b[0m\u001b[0;34m}\u001b[0m\u001b[0;34m)\u001b[0m\u001b[0;34m\u001b[0m\u001b[0m\n\u001b[0m\u001b[1;32m     17\u001b[0m             \u001b[0;31m#print(grad_value)\u001b[0m\u001b[0;34m\u001b[0m\u001b[0;34m\u001b[0m\u001b[0m\n\u001b[1;32m     18\u001b[0m \u001b[0;34m\u001b[0m\u001b[0m\n",
      "\u001b[0;32m~/anaconda3/lib/python3.6/site-packages/tensorflow/python/client/session.py\u001b[0m in \u001b[0;36mrun\u001b[0;34m(self, fetches, feed_dict, options, run_metadata)\u001b[0m\n\u001b[1;32m    887\u001b[0m     \u001b[0;32mtry\u001b[0m\u001b[0;34m:\u001b[0m\u001b[0;34m\u001b[0m\u001b[0m\n\u001b[1;32m    888\u001b[0m       result = self._run(None, fetches, feed_dict, options_ptr,\n\u001b[0;32m--> 889\u001b[0;31m                          run_metadata_ptr)\n\u001b[0m\u001b[1;32m    890\u001b[0m       \u001b[0;32mif\u001b[0m \u001b[0mrun_metadata\u001b[0m\u001b[0;34m:\u001b[0m\u001b[0;34m\u001b[0m\u001b[0m\n\u001b[1;32m    891\u001b[0m         \u001b[0mproto_data\u001b[0m \u001b[0;34m=\u001b[0m \u001b[0mtf_session\u001b[0m\u001b[0;34m.\u001b[0m\u001b[0mTF_GetBuffer\u001b[0m\u001b[0;34m(\u001b[0m\u001b[0mrun_metadata_ptr\u001b[0m\u001b[0;34m)\u001b[0m\u001b[0;34m\u001b[0m\u001b[0m\n",
      "\u001b[0;32m~/anaconda3/lib/python3.6/site-packages/tensorflow/python/client/session.py\u001b[0m in \u001b[0;36m_run\u001b[0;34m(self, handle, fetches, feed_dict, options, run_metadata)\u001b[0m\n\u001b[1;32m   1118\u001b[0m     \u001b[0;32mif\u001b[0m \u001b[0mfinal_fetches\u001b[0m \u001b[0;32mor\u001b[0m \u001b[0mfinal_targets\u001b[0m \u001b[0;32mor\u001b[0m \u001b[0;34m(\u001b[0m\u001b[0mhandle\u001b[0m \u001b[0;32mand\u001b[0m \u001b[0mfeed_dict_tensor\u001b[0m\u001b[0;34m)\u001b[0m\u001b[0;34m:\u001b[0m\u001b[0;34m\u001b[0m\u001b[0m\n\u001b[1;32m   1119\u001b[0m       results = self._do_run(handle, final_targets, final_fetches,\n\u001b[0;32m-> 1120\u001b[0;31m                              feed_dict_tensor, options, run_metadata)\n\u001b[0m\u001b[1;32m   1121\u001b[0m     \u001b[0;32melse\u001b[0m\u001b[0;34m:\u001b[0m\u001b[0;34m\u001b[0m\u001b[0m\n\u001b[1;32m   1122\u001b[0m       \u001b[0mresults\u001b[0m \u001b[0;34m=\u001b[0m \u001b[0;34m[\u001b[0m\u001b[0;34m]\u001b[0m\u001b[0;34m\u001b[0m\u001b[0m\n",
      "\u001b[0;32m~/anaconda3/lib/python3.6/site-packages/tensorflow/python/client/session.py\u001b[0m in \u001b[0;36m_do_run\u001b[0;34m(self, handle, target_list, fetch_list, feed_dict, options, run_metadata)\u001b[0m\n\u001b[1;32m   1315\u001b[0m     \u001b[0;32mif\u001b[0m \u001b[0mhandle\u001b[0m \u001b[0;32mis\u001b[0m \u001b[0;32mNone\u001b[0m\u001b[0;34m:\u001b[0m\u001b[0;34m\u001b[0m\u001b[0m\n\u001b[1;32m   1316\u001b[0m       return self._do_call(_run_fn, self._session, feeds, fetches, targets,\n\u001b[0;32m-> 1317\u001b[0;31m                            options, run_metadata)\n\u001b[0m\u001b[1;32m   1318\u001b[0m     \u001b[0;32melse\u001b[0m\u001b[0;34m:\u001b[0m\u001b[0;34m\u001b[0m\u001b[0m\n\u001b[1;32m   1319\u001b[0m       \u001b[0;32mreturn\u001b[0m \u001b[0mself\u001b[0m\u001b[0;34m.\u001b[0m\u001b[0m_do_call\u001b[0m\u001b[0;34m(\u001b[0m\u001b[0m_prun_fn\u001b[0m\u001b[0;34m,\u001b[0m \u001b[0mself\u001b[0m\u001b[0;34m.\u001b[0m\u001b[0m_session\u001b[0m\u001b[0;34m,\u001b[0m \u001b[0mhandle\u001b[0m\u001b[0;34m,\u001b[0m \u001b[0mfeeds\u001b[0m\u001b[0;34m,\u001b[0m \u001b[0mfetches\u001b[0m\u001b[0;34m)\u001b[0m\u001b[0;34m\u001b[0m\u001b[0m\n",
      "\u001b[0;32m~/anaconda3/lib/python3.6/site-packages/tensorflow/python/client/session.py\u001b[0m in \u001b[0;36m_do_call\u001b[0;34m(self, fn, *args)\u001b[0m\n\u001b[1;32m   1321\u001b[0m   \u001b[0;32mdef\u001b[0m \u001b[0m_do_call\u001b[0m\u001b[0;34m(\u001b[0m\u001b[0mself\u001b[0m\u001b[0;34m,\u001b[0m \u001b[0mfn\u001b[0m\u001b[0;34m,\u001b[0m \u001b[0;34m*\u001b[0m\u001b[0margs\u001b[0m\u001b[0;34m)\u001b[0m\u001b[0;34m:\u001b[0m\u001b[0;34m\u001b[0m\u001b[0m\n\u001b[1;32m   1322\u001b[0m     \u001b[0;32mtry\u001b[0m\u001b[0;34m:\u001b[0m\u001b[0;34m\u001b[0m\u001b[0m\n\u001b[0;32m-> 1323\u001b[0;31m       \u001b[0;32mreturn\u001b[0m \u001b[0mfn\u001b[0m\u001b[0;34m(\u001b[0m\u001b[0;34m*\u001b[0m\u001b[0margs\u001b[0m\u001b[0;34m)\u001b[0m\u001b[0;34m\u001b[0m\u001b[0m\n\u001b[0m\u001b[1;32m   1324\u001b[0m     \u001b[0;32mexcept\u001b[0m \u001b[0merrors\u001b[0m\u001b[0;34m.\u001b[0m\u001b[0mOpError\u001b[0m \u001b[0;32mas\u001b[0m \u001b[0me\u001b[0m\u001b[0;34m:\u001b[0m\u001b[0;34m\u001b[0m\u001b[0m\n\u001b[1;32m   1325\u001b[0m       \u001b[0mmessage\u001b[0m \u001b[0;34m=\u001b[0m \u001b[0mcompat\u001b[0m\u001b[0;34m.\u001b[0m\u001b[0mas_text\u001b[0m\u001b[0;34m(\u001b[0m\u001b[0me\u001b[0m\u001b[0;34m.\u001b[0m\u001b[0mmessage\u001b[0m\u001b[0;34m)\u001b[0m\u001b[0;34m\u001b[0m\u001b[0m\n",
      "\u001b[0;32m~/anaconda3/lib/python3.6/site-packages/tensorflow/python/client/session.py\u001b[0m in \u001b[0;36m_run_fn\u001b[0;34m(session, feed_dict, fetch_list, target_list, options, run_metadata)\u001b[0m\n\u001b[1;32m   1300\u001b[0m           return tf_session.TF_Run(session, options,\n\u001b[1;32m   1301\u001b[0m                                    \u001b[0mfeed_dict\u001b[0m\u001b[0;34m,\u001b[0m \u001b[0mfetch_list\u001b[0m\u001b[0;34m,\u001b[0m \u001b[0mtarget_list\u001b[0m\u001b[0;34m,\u001b[0m\u001b[0;34m\u001b[0m\u001b[0m\n\u001b[0;32m-> 1302\u001b[0;31m                                    status, run_metadata)\n\u001b[0m\u001b[1;32m   1303\u001b[0m \u001b[0;34m\u001b[0m\u001b[0m\n\u001b[1;32m   1304\u001b[0m     \u001b[0;32mdef\u001b[0m \u001b[0m_prun_fn\u001b[0m\u001b[0;34m(\u001b[0m\u001b[0msession\u001b[0m\u001b[0;34m,\u001b[0m \u001b[0mhandle\u001b[0m\u001b[0;34m,\u001b[0m \u001b[0mfeed_dict\u001b[0m\u001b[0;34m,\u001b[0m \u001b[0mfetch_list\u001b[0m\u001b[0;34m)\u001b[0m\u001b[0;34m:\u001b[0m\u001b[0;34m\u001b[0m\u001b[0m\n",
      "\u001b[0;31mKeyboardInterrupt\u001b[0m: "
     ]
    }
   ],
   "source": [
    "with tf.Session() as sess:\n",
    "    tf.global_variables_initializer().run()\n",
    "    best_hr = 0\n",
    "    for ep in range(max_epochs):\n",
    "        t1 = time.time()\n",
    "        eu,ei,el = get_data(negative_ratio)\n",
    "        for j in range(len(eu)//batch_size):\n",
    "            sample = np.random.randint(len(eu), size = batch_size)\n",
    "            #print(sample)\n",
    "            bu = eu[sample]\n",
    "            bi = ei[sample]\n",
    "            bl = el[sample]\n",
    "            #print(bu)\n",
    "            #print(bi)\n",
    "            #print(bl)\n",
    "            loss_value ,_ = sess.run([loss, optimizer], feed_dict = {U:bu, I:bi, label:bl}) \n",
    "            #print(grad_value)\n",
    "    \n",
    "        t2 = time.time()\n",
    "        print(\"[%.1f s] After %d epochs, loss on batch is %.3f.\"%(t2-t1, ep, loss_value))\n",
    "        \n",
    "        hits = 0\n",
    "        tNDCG = 0\n",
    "        for u in range(num_user):\n",
    "            map_item_rating = {}\n",
    "            maxScore = sess.run(score, feed_dict = {U:np.array([u]), I:np.array([test_data[u][1]])})\n",
    "            negative_i = negative_pair[u]\n",
    "            negative_u = [u for m in range(100)]\n",
    "            negative_score = sess.run(score, feed_dict = {U:negative_u, I:negative_i})\n",
    "            map_item_rating[test_data[u][1]] = maxScore\n",
    "            for k in range(100):\n",
    "                map_item_rating[negative_i[k]] = negative_score[k]\n",
    "            ranklist = heapq.nlargest(10, map_item_rating, key = map_item_rating.get)\n",
    "            if test_data[u][1] in ranklist:\n",
    "                hits +=1\n",
    "                idx = ranklist.index(test_data[u][1])\n",
    "                tNDCG += log(2)/log(idx+2)\n",
    "        \n",
    "        hr = hits/6040\n",
    "        NDCG = tNDCG/6040\n",
    "        print(\"[%.1f s] After %d epochs, hit@10 = %.3f, NDCG@10 = %.3f.\"%(time.time()-t1, ep, hits/6040, tNDCG/6040))\n",
    "       \n",
    "        if hr > best_hr:\n",
    "            best_hr = hr\n",
    "            saver = tf.train.Saver()\n",
    "            saver.save(sess, \"MLPModel/model.ckpt\", global_step = ep)"
   ]
  },
  {
   "cell_type": "code",
   "execution_count": null,
   "metadata": {},
   "outputs": [],
   "source": []
  }
 ],
 "metadata": {
  "kernelspec": {
   "display_name": "Python 3",
   "language": "python",
   "name": "python3"
  },
  "language_info": {
   "codemirror_mode": {
    "name": "ipython",
    "version": 3
   },
   "file_extension": ".py",
   "mimetype": "text/x-python",
   "name": "python",
   "nbconvert_exporter": "python",
   "pygments_lexer": "ipython3",
   "version": "3.6.4"
  }
 },
 "nbformat": 4,
 "nbformat_minor": 2
}
