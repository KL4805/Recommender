{
 "cells": [
  {
   "cell_type": "code",
   "execution_count": 1,
   "metadata": {},
   "outputs": [],
   "source": [
    "#Bayesian Personalized Ranking, provided at Xiangnan He, Neural Collaborative Filtering as a baseline"
   ]
  },
  {
   "cell_type": "code",
   "execution_count": 2,
   "metadata": {},
   "outputs": [],
   "source": [
    "#For Reference: \n",
    "#Factor = 8, HitRate = 0.63, NDCG = 0.36\n",
    "#Factor = 16, HR = 0.66, NDCG = 0.39\n",
    "#Factor = 32, HR = 0.68, NDCG = 0.41\n",
    "#Factor = 64, HR = 0.68, NDCG = 0.41-0.42"
   ]
  },
  {
   "cell_type": "code",
   "execution_count": 4,
   "metadata": {},
   "outputs": [],
   "source": [
    "import numpy as np\n",
    "import theano\n",
    "import theano.tensor as T\n",
    "import time\n",
    "import multiprocessing as mp\n",
    "from math import *"
   ]
  },
  {
   "cell_type": "code",
   "execution_count": 11,
   "metadata": {},
   "outputs": [],
   "source": [
    "class BPR(object):\n",
    "    def __init__(self, train, test, num_user, num_item, num_records, factors, learning_rate, reg_rate, init_mean, init_stddev, negative_pairs):\n",
    "        self.train = train\n",
    "        self.test = test\n",
    "        self.num_user = num_user\n",
    "        self.num_item = num_item\n",
    "        self.num_records = num_records\n",
    "        self.factors = factors\n",
    "        self.learning_rate = learning_rate\n",
    "        self.reg_rate = reg_rate\n",
    "        self.init_mean = init_mean\n",
    "        self.init_stddev = init_stddev\n",
    "        self.negative_pairs = negative_pairs\n",
    "        \n",
    "        gamma_U_init = np.random_normal(loc = init_mean, scale = init_stddev, size = (num_user, factors))\n",
    "        gamma_I_init = np.random_normal(loc = init_mean, scale = init_stddev, size = (num_item, factors))\n",
    "        \n",
    "        self.gamma_U = theano.shared(value = U_init.astype(theano.config.floatX), name = 'U', borrow = True)\n",
    "        self.gamma_I = theano.shared(value = I_init.astype(theano.config.floatX), name = 'I', borrow = True)\n",
    "        #Define initial gamma_u and gamma_i as shared variables\n",
    "        \n",
    "        self.items_of_user = [[] for i in range(num_user)]\n",
    "        for ul in train:\n",
    "            ul.rstrip('\\n')\n",
    "            ulint = [int(x) for x in ul.split(',')]\n",
    "            self.items_of_user[ulint[0]].append(ulint[1])\n",
    "        #Build item-of-user\n",
    "        \n",
    "        u = T.lvector('u')\n",
    "        i = T.lvector('i')\n",
    "        j = T.lvector('j')\n",
    "        lr = T.scalar('lr')\n",
    "        \n",
    "        x_ui = T.dot(self.gamma_U[u], self.gamma_I[i]).diagonal()\n",
    "        x_uj = T.dot(self.gamma_U[u], self.gamma_I[j]).diagonal()\n",
    "        regularization = self.reg_rate * ((self.gamma_U[u]**2).sum() + (self.gamma_I[i]**2).sum() + (self.gamma_I[j]**2).sum())\n",
    "        loss = regularization - T.sum(T.log(T.nnet.sigmoid(x_ui - x_uj)))\n",
    "        #Calculate loss\n",
    "        \n",
    "        self.SGDoptimizer = theano.function([u,i,j,lr], [], updates = [(self.gamma_U, self.gamma_U - lr*T.grad(loss, self.gamma_U)), \\\n",
    "                                                                       (self.gamma_I, self.gamma_I - lr*T.grad(loss, self.gamma_I))])\n",
    "        #SGD optimizer\n",
    "    \n",
    "    def build_model(self, num_epoch = 100, batch_size = 1000):\n",
    "        print(\"Training BPR with learning_rate:%f, regularization:%f, #factors:%d, #epoch:%d, batch_size:%d\"%\\\n",
    "             (self.learning_rate, self.reg_rate, self.factors, num_epoch, batch_size))\n",
    "        for ep in range(num_epoch):\n",
    "            t1 = time.time()\n",
    "            for iter in range(self.num_records//batch_size):\n",
    "                batch_u, batch_i, batch_j = self.get_next_batch(batch_size)\n",
    "                self.SGDoptimizer(batch_u, batch_i, batch_j, self.learning_rate)\n",
    "            \n",
    "            #evaluate model\n",
    "            t2 = time.time()\n",
    "            #Get time difference for a batch\n",
    "            self.U_cur = self.gamma_U.eval()\n",
    "            self.I_cur = self.gamma_I.eval()\n",
    "            topK = 10\n",
    "            hit_rate, NDCG = self.evaluate_model(top = topK, negative_pairs = self.negative_pairs)\n",
    "            print(\"Epoch = %d[%.1f s], HitRatio@%d = %f, NDCG%d = %f[%.1f s]\"%\\\n",
    "                  (ep, t2-t1, topK, hit_rate, topK, NDCG, time.time()-t2))\n",
    "    \n",
    "    def predict(self, u, i):\n",
    "        return np.dot(self.U_cur[u], self.I_cur[i])\n",
    "    \n",
    "    def evaluate_model(self, negative_pairs, top = 10):\n",
    "        hit = 0\n",
    "        tNDCG = 0\n",
    "        for i in range(self.num_user):\n",
    "            rating_truth = self.predict(i, test[i][1])\n",
    "            rating_neg = []\n",
    "            for j in range(100):\n",
    "                rating_neg.append((self.predict(i, negative_pairs[i][j]), 0))\n",
    "            rating_neg.append((rating_truth, 1))\n",
    "            rating_neg.sort()\n",
    "            rating_neg.reverse()\n",
    "            rank = [r[1] for r in rating_neg]\n",
    "            rank_truth = rank.index(1)\n",
    "            if rank_truth < top:\n",
    "                hit += 1\n",
    "                tNDCG += log(2)/log(rank_truth + 2)\n",
    "        \n",
    "        return (hit/num_user, tNDCG/num_user)\n",
    "                \n",
    "            \n",
    "            "
   ]
  },
  {
   "cell_type": "code",
   "execution_count": 13,
   "metadata": {},
   "outputs": [],
   "source": [
    "train_data = []\n",
    "with open('train_data.txt', 'r') as infile:\n",
    "    for r in infile:\n",
    "        r.rstrip('\\n')\n",
    "        rint = [int(x) for x in r.split(',')]\n",
    "        train_data.append((rint[0], rint[1]))"
   ]
  },
  {
   "cell_type": "code",
   "execution_count": 14,
   "metadata": {},
   "outputs": [],
   "source": [
    "test_data = []\n",
    "with open('test_data.txt', 'r') as infile:\n",
    "    for r in infile:\n",
    "        r.strip('\\n')\n",
    "        rint = [int(x) for x in r.split(',')]\n",
    "        test_data.append((rint[0], rint[1]))"
   ]
  },
  {
   "cell_type": "code",
   "execution_count": 15,
   "metadata": {},
   "outputs": [],
   "source": [
    "neg_pairs = [[] for i in range(6040)]\n",
    "with open('negative_pairs.txt', 'r') as infile:\n",
    "    for r in infile:\n",
    "        r.rstrip('\\n')\n",
    "        rint = [int(x) for x in r.split(',')]\n",
    "        neg_pairs[rint[0]].append(rint[1])"
   ]
  }
 ],
 "metadata": {
  "kernelspec": {
   "display_name": "Python 3",
   "language": "python",
   "name": "python3"
  },
  "language_info": {
   "codemirror_mode": {
    "name": "ipython",
    "version": 3
   },
   "file_extension": ".py",
   "mimetype": "text/x-python",
   "name": "python",
   "nbconvert_exporter": "python",
   "pygments_lexer": "ipython3",
   "version": "3.6.4"
  }
 },
 "nbformat": 4,
 "nbformat_minor": 2
}
