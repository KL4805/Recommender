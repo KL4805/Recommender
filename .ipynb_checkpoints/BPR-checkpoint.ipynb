{
 "cells": [
  {
   "cell_type": "code",
   "execution_count": null,
   "metadata": {},
   "outputs": [],
   "source": [
    "#Bayesian Personalized Ranking, provided at Xiangnan He, Neural Collaborative Filtering as a baseline"
   ]
  },
  {
   "cell_type": "code",
   "execution_count": null,
   "metadata": {},
   "outputs": [],
   "source": [
    "#For Reference: \n",
    "#Factor = 8, HitRate = 0.63, NDCG = 0.36\n",
    "#Factor = 16, HR = 0.66, NDCG = 0.39\n",
    "#Factor = 32, HR = 0.68, NDCG = 0.41\n",
    "#Factor = 64, HR = 0.68, NDCG = 0.41-0.42"
   ]
  },
  {
   "cell_type": "code",
   "execution_count": 1,
   "metadata": {
    "scrolled": true
   },
   "outputs": [],
   "source": [
    "import tensorflow as tf\n",
    "import numpy as np"
   ]
  },
  {
   "cell_type": "code",
   "execution_count": 2,
   "metadata": {},
   "outputs": [],
   "source": [
    "import os\n",
    "os.environ['CUDA_VISIBLE_DEVICES'] = '0'"
   ]
  },
  {
   "cell_type": "code",
   "execution_count": 3,
   "metadata": {},
   "outputs": [],
   "source": [
    "train_data = []\n",
    "with open('train_data.txt', 'r') as infile:\n",
    "    for l in infile:\n",
    "        l.rstrip('\\n')\n",
    "        intl = [int(x) for x in l.split(',')]\n",
    "        train_data.append(intl)"
   ]
  },
  {
   "cell_type": "code",
   "execution_count": 4,
   "metadata": {
    "scrolled": true
   },
   "outputs": [],
   "source": [
    "num_user = 6040\n",
    "num_item = np.max([u[1] for u in train_data])+1"
   ]
  },
  {
   "cell_type": "code",
   "execution_count": 5,
   "metadata": {},
   "outputs": [],
   "source": [
    "num_records = len(train_data)"
   ]
  },
  {
   "cell_type": "code",
   "execution_count": 6,
   "metadata": {},
   "outputs": [],
   "source": [
    "test_data = [0 for i in range(6040)]\n",
    "with open('test_data.txt','r') as infile:\n",
    "    for l in infile:\n",
    "        l.rstrip('\\n')\n",
    "        intl = [int(x) for x in l.split(',')]\n",
    "        test_data[intl[0]] = intl[1]"
   ]
  },
  {
   "cell_type": "code",
   "execution_count": 7,
   "metadata": {},
   "outputs": [],
   "source": [
    "negative_pair = [[] for i in range(6040)]\n",
    "with open('negative_pairs.txt','r') as infile:\n",
    "    for l in infile:\n",
    "        l.rstrip('\\n')\n",
    "        u,i = (int(x) for x in l.split(','))\n",
    "        negative_pair[u].append(i)"
   ]
  },
  {
   "cell_type": "code",
   "execution_count": 8,
   "metadata": {},
   "outputs": [],
   "source": [
    "#preprocessing the data\n",
    "item_of_user = [[] for i in range(6040)]\n",
    "for d in train_data:\n",
    "    item_of_user[d[0]].append(d[1])"
   ]
  },
  {
   "cell_type": "code",
   "execution_count": 15,
   "metadata": {},
   "outputs": [],
   "source": [
    "def get_batch(batch_size):\n",
    "    u_batch, i_batch, j_batch = [], [], []\n",
    "    for i in range(batch_size):\n",
    "        u = np.random.randint(0, num_user)\n",
    "        i = np.random.randint(0, len(item_of_user[u]))\n",
    "        pi = item_of_user[u][i]\n",
    "        j = np.random.randint(0, num_item)\n",
    "        while j in item_of_user[u]:\n",
    "            j = np.random.randint(0, num_item)\n",
    "        u_batch.append(u)\n",
    "        i_batch.append(pi)\n",
    "        j_batch.append(j)\n",
    "    return u_batch, i_batch, j_batch"
   ]
  },
  {
   "cell_type": "code",
   "execution_count": 17,
   "metadata": {},
   "outputs": [],
   "source": [
    "num_epochs = 20\n",
    "batch_size = 320\n",
    "learning_rate = 0.01\n",
    "regularization_rate = 0.01\n",
    "latent_size = 8"
   ]
  },
  {
   "cell_type": "code",
   "execution_count": 11,
   "metadata": {},
   "outputs": [],
   "source": [
    "tf.reset_default_graph()\n",
    "gamma_u = tf.get_variable(name = \"latent-u\", shape = [num_user, latent_size], initializer = tf.truncated_normal_initializer(stddev = 0.01))\n",
    "gamma_i = tf.get_variable(name = 'latent-i', shape = [num_item, latent_size], initializer = tf.truncated_normal_initializer(stddev = 0.01))\n",
    "#gamma_u = tf.get_variable(name = 'latent_u', shape = [num_user, latent_size], initializer = tf.constant_initializer(0.5))\n",
    "#gamma_i = tf.get_variable(name = 'latent_i', shape = [num_user, latent_size], initializer = tf.constant_initializer(0.5))"
   ]
  },
  {
   "cell_type": "code",
   "execution_count": 12,
   "metadata": {},
   "outputs": [],
   "source": [
    "regularizer = tf.contrib.layers.l2_regularizer(regularization_rate)\n",
    "U = tf.placeholder(tf.int32, [None])\n",
    "I = tf.placeholder(tf.int32, [None])\n",
    "J = tf.placeholder(tf.int32, [None])\n",
    "latent_batch_u = tf.nn.embedding_lookup(gamma_u, U)\n",
    "latent_batch_i = tf.nn.embedding_lookup(gamma_i, I)\n",
    "latent_batch_j = tf.nn.embedding_lookup(gamma_i, J)\n",
    "x_uij = tf.reduce_sum(tf.multiply(latent_batch_u, latent_batch_i-latent_batch_j), 1)\n",
    "#neg_mark = tf.einsum('ij,ij->i', latent_batch_u, latent_batch_j)\n",
    "#x_uij = tf.nn.sigmoid(pos_mark-neg_mark)\n",
    "regu = regularizer(latent_batch_u) + regularizer(latent_batch_i)+regularizer(latent_batch_j)\n",
    "loss = regu - tf.reduce_sum(tf.log(tf.nn.sigmoid(x_uij)))\n",
    "train_optimizer = tf.train.GradientDescentOptimizer(learning_rate).minimize(loss)\n",
    "#evaluation_score = tf.reduce_sum(tf.multiply(latent_batch_u, latent_batch_j), 1)"
   ]
  },
  {
   "cell_type": "code",
   "execution_count": 13,
   "metadata": {},
   "outputs": [],
   "source": [
    "from math import *\n",
    "from time import *\n",
    "import heapq"
   ]
  },
  {
   "cell_type": "code",
   "execution_count": null,
   "metadata": {
    "scrolled": true
   },
   "outputs": [],
   "source": [
    "with tf.Session() as sess:\n",
    "    tf.global_variables_initializer().run()\n",
    "    for i in range(num_epochs):\n",
    "        t1 = time()\n",
    "        for j in range(num_records//batch_size):\n",
    "            batch_u,batch_i, batch_j = get_batch(batch_size)\n",
    "            _, reg_term, loss_value = sess.run([train_optimizer, regu, loss], feed_dict = {U:batch_u, I:batch_i, J:batch_j})\n",
    "            #print(xuij)\n",
    "        print(\"[%.1f s] After %d epochs, loss is %f while regularize term is %f\"%(time()-t1, i, loss_value, reg_term))\n",
    "        #test it using the negative pairs\n",
    "        gamma_u_val = gamma_u.eval()\n",
    "        gamma_i_val = gamma_i.eval()\n",
    "        #if i==0: \n",
    "        #    print(gamma_u_val[0])\n",
    "        #if i==10:\n",
    "        #    print(gamma_u_val[0])\n",
    "        \n",
    "        \n",
    "        hits = 0\n",
    "        tNDCG = 0 \n",
    "        for k in range(num_user):\n",
    "            map_item_rating = {}\n",
    "            maxScore = np.dot(gamma_u_val[k], gamma_i_val[test_data[k]])\n",
    "            map_item_rating[test_data[k]] = maxScore\n",
    "            early_stop = False\n",
    "            countLarger = 0\n",
    "            for m in range(100):\n",
    "                _score = np.dot(gamma_u_val[k], gamma_i_val[negative_pair[k][m]])\n",
    "                map_item_rating[negative_pair[k][m]] = _score\n",
    "                \n",
    "                if _score>maxScore:\n",
    "                    countLarger +=1\n",
    "                \n",
    "                if countLarger >=10:\n",
    "                    early_stop = True\n",
    "                    break\n",
    "            if early_stop == False:\n",
    "                ranklist = heapq.nlargest(10, map_item_rating, key = map_item_rating.get)\n",
    "                if test_data[k] in ranklist:\n",
    "                    hits += 1\n",
    "                    idx = ranklist.index(test_data[k])\n",
    "                    tNDCG += log(2)/log(idx+2)\n",
    "                        \n",
    "                \n",
    "        print(\"[%.1f s]After %d epochs and %d iterations, hit@10 and NDCG@10 is %f and %f\"%(time()-t1,i,j, hits/6040.0, tNDCG/6040.0))\n",
    "        #with tf.device('/cpu'):\n",
    "        #    if i%10 == 0:\n",
    "        #        saver = tf.train.Saver()\n",
    "        #        saver.save(sess, \"Model/model.ckpt\", global_step = i)\n",
    "                    \n",
    "                        \n",
    "                    \n",
    "                    "
   ]
  },
  {
   "cell_type": "code",
   "execution_count": null,
   "metadata": {},
   "outputs": [],
   "source": []
  }
 ],
 "metadata": {
  "kernelspec": {
   "display_name": "Python 3",
   "language": "python",
   "name": "python3"
  },
  "language_info": {
   "codemirror_mode": {
    "name": "ipython",
    "version": 3
   },
   "file_extension": ".py",
   "mimetype": "text/x-python",
   "name": "python",
   "nbconvert_exporter": "python",
   "pygments_lexer": "ipython3",
   "version": "3.6.4"
  }
 },
 "nbformat": 4,
 "nbformat_minor": 2
}
