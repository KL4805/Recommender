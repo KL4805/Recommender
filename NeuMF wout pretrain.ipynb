{
 "cells": [
  {
   "cell_type": "code",
   "execution_count": null,
   "metadata": {},
   "outputs": [],
   "source": [
    "#NeuMF from scratch"
   ]
  },
  {
   "cell_type": "code",
   "execution_count": 1,
   "metadata": {},
   "outputs": [],
   "source": [
    "import tensorflow as tf\n",
    "import numpy as np\n",
    "from time import *\n",
    "from math import *\n",
    "import heapq"
   ]
  },
  {
   "cell_type": "code",
   "execution_count": 2,
   "metadata": {},
   "outputs": [],
   "source": [
    "train_data = []\n",
    "with open('train_data.txt','r') as infile:\n",
    "    for l in infile:\n",
    "        l.rstrip('\\n')\n",
    "        lint = [int(x) for x in l.split(',')]\n",
    "        train_data.append(lint)"
   ]
  },
  {
   "cell_type": "code",
   "execution_count": 3,
   "metadata": {},
   "outputs": [],
   "source": [
    "item_of_user = [[] for i in range(6040)]\n",
    "for l in train_data:\n",
    "    u = l[0]\n",
    "    item = l[1]\n",
    "    item_of_user[u].append(item)"
   ]
  },
  {
   "cell_type": "code",
   "execution_count": 4,
   "metadata": {},
   "outputs": [],
   "source": [
    "test_data = []\n",
    "with open('test_data.txt','r') as infile:\n",
    "    for l in infile:\n",
    "        l.rstrip('\\n')\n",
    "        lint = [int(x) for x in l.split(',')]\n",
    "        test_data.append(lint)"
   ]
  },
  {
   "cell_type": "code",
   "execution_count": 5,
   "metadata": {},
   "outputs": [],
   "source": [
    "negative_pair = [[] for i in range(6040)]\n",
    "with open('negative_pairs.txt','r') as infile:\n",
    "    for l in infile:\n",
    "        l.rstrip('\\n')\n",
    "        u,i = (int(x) for x in l.split(','))\n",
    "        negative_pair[u].append(i)"
   ]
  },
  {
   "cell_type": "code",
   "execution_count": 6,
   "metadata": {},
   "outputs": [],
   "source": [
    "num_user = 6040\n",
    "num_item = 3952"
   ]
  },
  {
   "cell_type": "code",
   "execution_count": 7,
   "metadata": {},
   "outputs": [],
   "source": [
    "#For this task, we are performing a regression-like task, therefore the batch contains users, items and labels. \n",
    "def get_data(negative_num):\n",
    "    batch_user, batch_item, batch_label = [], [], []\n",
    "    for u in range(num_user):\n",
    "        for it in item_of_user[u]:\n",
    "            batch_user.append(u)\n",
    "            batch_item.append(it)\n",
    "            batch_label.append(1)\n",
    "            sampled_negative = 0\n",
    "            while sampled_negative <negative_num:\n",
    "                j = np.random.randint(num_item)\n",
    "                if j in item_of_user[u]:\n",
    "                    continue\n",
    "                else:\n",
    "                    batch_user.append(u)\n",
    "                    batch_item.append(j)\n",
    "                    batch_label.append(0)\n",
    "                    sampled_negative += 1\n",
    "    \n",
    "    return np.array(batch_user), np.array(batch_item), np.array(batch_label)        "
   ]
  },
  {
   "cell_type": "code",
   "execution_count": 8,
   "metadata": {},
   "outputs": [],
   "source": [
    "GMF_latent_size = 32\n",
    "MLP_latent_size = 32\n",
    "learning_rate = 0.001\n",
    "max_epochs = 20\n",
    "MLP_layers = [64, 32, 16, 8]\n",
    "#MLP_layers[0] = 2*MLP_latent_size\n",
    "regularization_rate = 1e-20\n",
    "batch_size = 256\n",
    "negative_ratio = 4"
   ]
  },
  {
   "cell_type": "code",
   "execution_count": 9,
   "metadata": {
    "scrolled": false
   },
   "outputs": [],
   "source": [
    "tf.reset_default_graph()\n",
    "GMF_embedding_u = tf.get_variable(name = 'GMF_latent_u', shape = [num_user, GMF_latent_size], initializer = tf.random_normal_initializer(stddev = 0.01))\n",
    "GMF_embedding_i = tf.get_variable(name = \"GMF_latent_i\", shape = [num_item, GMF_latent_size], initializer = tf.random_normal_initializer(stddev = 0.01))\n",
    "\n",
    "MLP_embedding_u = tf.get_variable(name = \"MLP_latent_u\", shape = [num_user, MLP_latent_size], initializer = tf.random_normal_initializer(stddev = 0.01))\n",
    "MLP_embedding_i = tf.get_variable(name = \"MLP_latent_i\", shape = [num_item, MLP_latent_size], initializer = tf.random_normal_initializer(stddev = 0.01))\n",
    "\n",
    "#GMF_output_weight = tf.get_variable(name = \"GMF_output_weight\", shape = [GMP_latent_size, 1], initializer = tf.random_normal_initializer(stddev = 0.01))\n",
    "\n",
    "MLP_hidden_weights = []\n",
    "MLP_hidden_biases = []\n",
    "for i in range(len(MLP_layers)-1):\n",
    "    MLP_hidden_weights.append(tf.get_variable(name = 'MLP_hidden_w'+str(i), shape =[MLP_layers[i], MLP_layers[i+1]], initializer = tf.random_normal_initializer(stddev = 0.01)))\n",
    "    MLP_hidden_biases.append(tf.get_variable(name = 'MLP_hidden_b'+str(i), shape = [MLP_layers[i+1]], initializer = tf.constant_initializer(0.01)))\n",
    "\n",
    "#MLP_output_weight = tf.get_variable(name = 'MLP_output_weight', shape = [MLP_layers[-1], 1], initializer = tf.random_normal_initializer(stddev = 0.01))\n",
    "total_output_weight = tf.get_variable(name = \"output_weight\", shape = [GMF_latent_size + MLP_layers[-1], 1], initializer = tf.random_normal_initializer(stddev = 0.01))"
   ]
  },
  {
   "cell_type": "code",
   "execution_count": 10,
   "metadata": {},
   "outputs": [],
   "source": [
    "U = tf.placeholder(tf.int32, [None])\n",
    "I = tf.placeholder(tf.int32, [None])\n",
    "label = tf.placeholder(tf.int32, [None])\n",
    "regularizer = tf.contrib.layers.l2_regularizer(regularization_rate)"
   ]
  },
  {
   "cell_type": "code",
   "execution_count": 11,
   "metadata": {},
   "outputs": [],
   "source": [
    "#GMF_part\n",
    "GMF_embedded_u = tf.nn.embedding_lookup(GMF_embedding_u, U)\n",
    "GMF_embedded_i = tf.nn.embedding_lookup(GMF_embedding_i, I)\n",
    "\n",
    "GMF_merged_ui = tf.multiply(GMF_embedded_u, GMF_embedded_i)"
   ]
  },
  {
   "cell_type": "code",
   "execution_count": 12,
   "metadata": {},
   "outputs": [],
   "source": [
    "#MLP_part\n",
    "MLP_embedded_u = tf.nn.embedding_lookup(MLP_embedding_u, U)\n",
    "MLP_embedded_i = tf.nn.embedding_lookup(MLP_embedding_i, I)\n",
    "\n",
    "MLP_merged_ui = tf.concat([MLP_embedded_u, MLP_embedded_i], axis = 1)\n",
    "\n",
    "hidden_in = MLP_merged_ui\n",
    "\n",
    "for i in range(len(MLP_layers) - 1):\n",
    "    hidden_out = tf.nn.relu(tf.matmul(hidden_in, MLP_hidden_weights[i]) + MLP_hidden_biases[i])\n",
    "    hidden_in = hidden_out\n",
    "    tf.add_to_collection(\"losses\", regularizer(MLP_hidden_weights[i]))"
   ]
  },
  {
   "cell_type": "code",
   "execution_count": 13,
   "metadata": {},
   "outputs": [],
   "source": [
    "final_concat = tf.concat([GMF_merged_ui, hidden_out], axis = 1)\n",
    "output = tf.reshape(tf.matmul(final_concat, total_output_weight), [-1])\n",
    "prediction = tf.nn.sigmoid(output)\n",
    "reg_term = regularizer(GMF_embedding_u) +regularizer(GMF_embedding_i) + regularizer(MLP_embedding_u) + regularizer(MLP_embedding_i)\n",
    "reg_term += tf.add_n(tf.get_collection(\"losses\"))\n",
    "loss = reg_term + tf.losses.log_loss(labels = label, predictions = prediction)\n",
    "\n",
    "optimizer = tf.train.AdamOptimizer(learning_rate).minimize(loss)"
   ]
  },
  {
   "cell_type": "code",
   "execution_count": null,
   "metadata": {},
   "outputs": [],
   "source": [
    "with tf.Session() as sess:\n",
    "    tf.global_variables_initializer().run()\n",
    "    for ep in range(max_epochs):\n",
    "        t1 = time()\n",
    "        eu,ei,el = get_data(negative_ratio)\n",
    "        for j in range(len(eu)//batch_size):\n",
    "            sample = np.random.randint(len(eu), size = batch_size)\n",
    "            #print(sample)\n",
    "            bu = eu[sample]\n",
    "            bi = ei[sample]\n",
    "            bl = el[sample]\n",
    "            #print(bu)\n",
    "            #print(bi)\n",
    "            #print(bl)\n",
    "            loss_value ,_ = sess.run([loss, optimizer], feed_dict = {U:bu, I:bi, label:bl}) \n",
    "            #print(grad_value)\n",
    "    \n",
    "        t2 = time()\n",
    "        print(\"[%.1f s] After %d epochs, loss on batch is %.3f.\"%(t2-t1, ep, loss_value))\n",
    "        \n",
    "        hits = 0\n",
    "        tNDCG = 0\n",
    "        for u in range(num_user):\n",
    "            map_item_rating = {}\n",
    "            maxScore = sess.run(output, feed_dict = {U:np.array([u]), I:np.array([test_data[u][1]])})\n",
    "            negative_i = negative_pair[u]\n",
    "            negative_u = [u for m in range(100)]\n",
    "            negative_score = sess.run(output, feed_dict = {U:negative_u, I:negative_i})\n",
    "            map_item_rating[test_data[u][1]] = maxScore\n",
    "            for k in range(100):\n",
    "                map_item_rating[negative_i[k]] = negative_score[k]\n",
    "            ranklist = heapq.nlargest(10, map_item_rating, key = map_item_rating.get)\n",
    "            if test_data[u][1] in ranklist:\n",
    "                hits +=1\n",
    "                idx = ranklist.index(test_data[u][1])\n",
    "                tNDCG += log(2)/log(idx+2)\n",
    "        \n",
    "        print(\"[%.1f s] After %d epochs, hit@10 = %.3f, NDCG@10 = %.3f.\"%(time()-t1, ep, hits/6040, tNDCG/6040))\n",
    "       \n",
    "        #if ep % 5 == 0:\n",
    "        #    saver = tf.train.Saver()\n",
    "        #    saver.save(sess, \"MLPModel/model.ckpt\", global_step = i)"
   ]
  },
  {
   "cell_type": "code",
   "execution_count": null,
   "metadata": {},
   "outputs": [],
   "source": []
  }
 ],
 "metadata": {
  "kernelspec": {
   "display_name": "Python 3",
   "language": "python",
   "name": "python3"
  },
  "language_info": {
   "codemirror_mode": {
    "name": "ipython",
    "version": 3
   },
   "file_extension": ".py",
   "mimetype": "text/x-python",
   "name": "python",
   "nbconvert_exporter": "python",
   "pygments_lexer": "ipython3",
   "version": "3.6.4"
  }
 },
 "nbformat": 4,
 "nbformat_minor": 2
}
