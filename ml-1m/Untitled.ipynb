{
 "cells": [
  {
   "cell_type": "code",
   "execution_count": 1,
   "metadata": {},
   "outputs": [],
   "source": [
    "string = \"Scarlett, The (1995)\""
   ]
  },
  {
   "cell_type": "code",
   "execution_count": 2,
   "metadata": {},
   "outputs": [
    {
     "data": {
      "text/plain": [
       "['Scarlett', ' (1995)']"
      ]
     },
     "execution_count": 2,
     "metadata": {},
     "output_type": "execute_result"
    }
   ],
   "source": [
    "string.split(', The')"
   ]
  },
  {
   "cell_type": "code",
   "execution_count": 9,
   "metadata": {},
   "outputs": [],
   "source": [
    "string = \"sanoiashg\""
   ]
  },
  {
   "cell_type": "code",
   "execution_count": 10,
   "metadata": {},
   "outputs": [
    {
     "data": {
      "text/plain": [
       "['sanoiashg']"
      ]
     },
     "execution_count": 10,
     "metadata": {},
     "output_type": "execute_result"
    }
   ],
   "source": [
    "string.split(\", The\")"
   ]
  },
  {
   "cell_type": "code",
   "execution_count": 24,
   "metadata": {
    "scrolled": true
   },
   "outputs": [],
   "source": [
    "outfile = open(\"kwList.txt\", 'w')\n",
    "with open('RawKwList.txt', 'r') as infile:\n",
    "    for l in infile:\n",
    "        l = l.rstrip('\\n')\n",
    "        l = l.lstrip(':')\n",
    "        if \", The\" in l:\n",
    "            llist = l.split(\", The\")\n",
    "            outfile.write(\":The \" + llist[0] + llist[1] + '\\n')\n",
    "        elif \", A\" in l:\n",
    "            llist = l.split(\", A\")\n",
    "            outfile.write(\":A \" + llist[0] + llist[1] + '\\n')\n",
    "        elif \", La\" in l:\n",
    "            llist = l.split(\", La\")\n",
    "            outfile.write(\":La \" + llist[0] + llist[1] + '\\n')\n",
    "        else:\n",
    "            outfile.write(\":\"+l + '\\n')"
   ]
  },
  {
   "cell_type": "code",
   "execution_count": null,
   "metadata": {},
   "outputs": [],
   "source": []
  }
 ],
 "metadata": {
  "kernelspec": {
   "display_name": "Python 3",
   "language": "python",
   "name": "python3"
  },
  "language_info": {
   "codemirror_mode": {
    "name": "ipython",
    "version": 3
   },
   "file_extension": ".py",
   "mimetype": "text/x-python",
   "name": "python",
   "nbconvert_exporter": "python",
   "pygments_lexer": "ipython3",
   "version": "3.6.4"
  }
 },
 "nbformat": 4,
 "nbformat_minor": 2
}
